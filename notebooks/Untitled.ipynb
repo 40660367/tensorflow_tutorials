{
 "cells": [
  {
   "cell_type": "markdown",
   "metadata": {},
   "source": [
    "然后修改成以下你自己的“notebook工作文件夹”，修改后记得保存文件。\n",
    "\n",
    "注意要去掉这行前面的#（#在表示注释掉不起作用），不同操作系统的电脑路径不一样，windows是双斜杠（\\\\），linux是反斜杠（/），Mac路径最好自己百度下。\n",
    "\n",
    "\n",
    "3）然后重启notebook服务器就可以了\n",
    "--------------------- \n",
    "作者：Lee_Wei4939 \n",
    "来源：CSDN \n",
    "原文：https://blog.csdn.net/liwei1205/article/details/78818568 \n",
    "版权声明：本文为博主原创文章，转载请附上博文链接！"
   ]
  }
 ],
 "metadata": {
  "kernelspec": {
   "display_name": "Python 3",
   "language": "python",
   "name": "python3"
  },
  "language_info": {
   "codemirror_mode": {
    "name": "ipython",
    "version": 3
   },
   "file_extension": ".py",
   "mimetype": "text/x-python",
   "name": "python",
   "nbconvert_exporter": "python",
   "pygments_lexer": "ipython3",
   "version": "3.6.5"
  },
  "latex_envs": {
   "LaTeX_envs_menu_present": true,
   "autoclose": false,
   "autocomplete": true,
   "bibliofile": "biblio.bib",
   "cite_by": "apalike",
   "current_citInitial": 1,
   "eqLabelWithNumbers": true,
   "eqNumInitial": 1,
   "hotkeys": {
    "equation": "Ctrl-E",
    "itemize": "Ctrl-I"
   },
   "labels_anchors": false,
   "latex_user_defs": false,
   "report_style_numbering": false,
   "user_envs_cfg": false
  },
  "toc": {
   "base_numbering": 1,
   "nav_menu": {},
   "number_sections": true,
   "sideBar": true,
   "skip_h1_title": false,
   "title_cell": "Table of Contents",
   "title_sidebar": "Contents",
   "toc_cell": false,
   "toc_position": {},
   "toc_section_display": true,
   "toc_window_display": false
  }
 },
 "nbformat": 4,
 "nbformat_minor": 2
}
